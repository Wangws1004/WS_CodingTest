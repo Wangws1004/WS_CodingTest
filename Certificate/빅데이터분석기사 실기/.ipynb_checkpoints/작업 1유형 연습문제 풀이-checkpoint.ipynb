{
 "cells": [
  {
   "cell_type": "markdown",
   "id": "a7860bbc",
   "metadata": {},
   "source": [
    "## 출처 : [DataManim](https://www.datamanim.com/dataset/03_dataq/typeone.html)"
   ]
  },
  {
   "cell_type": "code",
   "execution_count": 10,
   "id": "548bb844",
   "metadata": {
    "scrolled": true
   },
   "outputs": [
    {
     "data": {
      "text/html": [
       "<div>\n",
       "<style scoped>\n",
       "    .dataframe tbody tr th:only-of-type {\n",
       "        vertical-align: middle;\n",
       "    }\n",
       "\n",
       "    .dataframe tbody tr th {\n",
       "        vertical-align: top;\n",
       "    }\n",
       "\n",
       "    .dataframe thead th {\n",
       "        text-align: right;\n",
       "    }\n",
       "</style>\n",
       "<table border=\"1\" class=\"dataframe\">\n",
       "  <thead>\n",
       "    <tr style=\"text-align: right;\">\n",
       "      <th></th>\n",
       "      <th>title</th>\n",
       "      <th>channelTitle</th>\n",
       "      <th>categoryId</th>\n",
       "      <th>view_count</th>\n",
       "      <th>likes</th>\n",
       "      <th>dislikes</th>\n",
       "      <th>comment_count</th>\n",
       "      <th>channelId</th>\n",
       "      <th>trending_date2</th>\n",
       "    </tr>\n",
       "  </thead>\n",
       "  <tbody>\n",
       "    <tr>\n",
       "      <th>0</th>\n",
       "      <td>[신병] 물자창고</td>\n",
       "      <td>장삐쭈</td>\n",
       "      <td>23</td>\n",
       "      <td>1893473</td>\n",
       "      <td>38249</td>\n",
       "      <td>730</td>\n",
       "      <td>8595</td>\n",
       "      <td>UChbE5OZQ6dRHECsX0tEPEZQ</td>\n",
       "      <td>2021-01-01</td>\n",
       "    </tr>\n",
       "    <tr>\n",
       "      <th>1</th>\n",
       "      <td>RAIN(비) - 나로 바꾸자 Switch to me (duet with JYP) MV</td>\n",
       "      <td>RAIN's Official Channel</td>\n",
       "      <td>10</td>\n",
       "      <td>2600864</td>\n",
       "      <td>0</td>\n",
       "      <td>0</td>\n",
       "      <td>20129</td>\n",
       "      <td>UCxXgIeE5hxWxHG6dz9Scg2w</td>\n",
       "      <td>2021-01-01</td>\n",
       "    </tr>\n",
       "    <tr>\n",
       "      <th>2</th>\n",
       "      <td>2020년 제야의 종 온라인 타종행사 | 보신각 현장 행사는 진행하지 않습니다.</td>\n",
       "      <td>서울시 · Seoul</td>\n",
       "      <td>29</td>\n",
       "      <td>347049</td>\n",
       "      <td>3564</td>\n",
       "      <td>120</td>\n",
       "      <td>178</td>\n",
       "      <td>UCZUPZW5idAxYp-Asj__lVAA</td>\n",
       "      <td>2021-01-01</td>\n",
       "    </tr>\n",
       "    <tr>\n",
       "      <th>3</th>\n",
       "      <td>고기남자의 칠면조 파티</td>\n",
       "      <td>고기남자 MeatMan</td>\n",
       "      <td>26</td>\n",
       "      <td>528458</td>\n",
       "      <td>15372</td>\n",
       "      <td>280</td>\n",
       "      <td>3470</td>\n",
       "      <td>UCT3CumbFIJiW33uq0UI3zlg</td>\n",
       "      <td>2021-01-01</td>\n",
       "    </tr>\n",
       "    <tr>\n",
       "      <th>4</th>\n",
       "      <td>골목 3mc를 분노하게 만든 마음고생이 심했을 공릉 백반집 사장님의 푸념?! [예능...</td>\n",
       "      <td>스브스밥집</td>\n",
       "      <td>24</td>\n",
       "      <td>494904</td>\n",
       "      <td>3918</td>\n",
       "      <td>111</td>\n",
       "      <td>3142</td>\n",
       "      <td>UCdWgRSfttvDucq4ApcCg5Mw</td>\n",
       "      <td>2021-01-01</td>\n",
       "    </tr>\n",
       "  </tbody>\n",
       "</table>\n",
       "</div>"
      ],
      "text/plain": [
       "                                               title             channelTitle   \n",
       "0                                          [신병] 물자창고                      장삐쭈  \\\n",
       "1   RAIN(비) - 나로 바꾸자 Switch to me (duet with JYP) MV  RAIN's Official Channel   \n",
       "2       2020년 제야의 종 온라인 타종행사 | 보신각 현장 행사는 진행하지 않습니다.              서울시 · Seoul   \n",
       "3                                       고기남자의 칠면조 파티             고기남자 MeatMan   \n",
       "4  골목 3mc를 분노하게 만든 마음고생이 심했을 공릉 백반집 사장님의 푸념?! [예능...                    스브스밥집   \n",
       "\n",
       "   categoryId  view_count  likes  dislikes  comment_count   \n",
       "0          23     1893473  38249       730           8595  \\\n",
       "1          10     2600864      0         0          20129   \n",
       "2          29      347049   3564       120            178   \n",
       "3          26      528458  15372       280           3470   \n",
       "4          24      494904   3918       111           3142   \n",
       "\n",
       "                  channelId trending_date2  \n",
       "0  UChbE5OZQ6dRHECsX0tEPEZQ     2021-01-01  \n",
       "1  UCxXgIeE5hxWxHG6dz9Scg2w     2021-01-01  \n",
       "2  UCZUPZW5idAxYp-Asj__lVAA     2021-01-01  \n",
       "3  UCT3CumbFIJiW33uq0UI3zlg     2021-01-01  \n",
       "4  UCdWgRSfttvDucq4ApcCg5Mw     2021-01-01  "
      ]
     },
     "execution_count": 10,
     "metadata": {},
     "output_type": "execute_result"
    }
   ],
   "source": [
    "import pandas as pd\n",
    "df = pd.read_csv(\"https://raw.githubusercontent.com/Datamanim/datarepo/main/youtube/youtube.csv\",index_col=0)\n",
    "df.head()"
   ]
  },
  {
   "cell_type": "code",
   "execution_count": 11,
   "id": "5c8452a0",
   "metadata": {},
   "outputs": [
    {
     "name": "stdout",
     "output_type": "stream",
     "text": [
      "<class 'pandas.core.frame.DataFrame'>\n",
      "Index: 60399 entries, 0 to 60398\n",
      "Data columns (total 9 columns):\n",
      " #   Column          Non-Null Count  Dtype \n",
      "---  ------          --------------  ----- \n",
      " 0   title           60399 non-null  object\n",
      " 1   channelTitle    60399 non-null  object\n",
      " 2   categoryId      60399 non-null  int64 \n",
      " 3   view_count      60399 non-null  int64 \n",
      " 4   likes           60399 non-null  int64 \n",
      " 5   dislikes        60399 non-null  int64 \n",
      " 6   comment_count   60399 non-null  int64 \n",
      " 7   channelId       60399 non-null  object\n",
      " 8   trending_date2  60399 non-null  object\n",
      "dtypes: int64(5), object(4)\n",
      "memory usage: 4.6+ MB\n"
     ]
    }
   ],
   "source": [
    "df.info()"
   ]
  },
  {
   "cell_type": "markdown",
   "id": "ae86bde7",
   "metadata": {},
   "source": [
    "### Q1. 인기동영상 제작횟수가 많은 채널 상위 10개명을 출력하라 (날짜기준, 중복포함)"
   ]
  },
  {
   "cell_type": "code",
   "execution_count": 12,
   "id": "abba888d",
   "metadata": {},
   "outputs": [
    {
     "name": "stdout",
     "output_type": "stream",
     "text": [
      "['파뿌리', '짤툰', '런닝맨 - 스브스 공식 채널', '엠뚜루마뚜루 : MBC 공식 종합 채널', 'SPOTV']\n"
     ]
    }
   ],
   "source": [
    "anwer = list(df.loc[df.channelId.isin(df.channelId.value_counts().head().index)].channelTitle.unique())\n",
    "print(anwer)"
   ]
  },
  {
   "cell_type": "markdown",
   "id": "5535b409",
   "metadata": {},
   "source": [
    "이 코드는 데이터프레임 `df`에서 상위 10개의 `channelId`에 해당하는 `channelTitle` 목록을 추출하여 고유한 채널 제목을 출력하는 역할을 합니다. 각 부분을 설명해 보겠습니다.\n",
    "\n",
    "```python\n",
    "answer = list(df.loc[df.channelId.isin(df.channelId.value_counts().head(10).index)].channelTitle.unique())\n",
    "```\n",
    "\n",
    "1. **`df.channelId.value_counts().head(10).index`**: `channelId` 열에서 각 `channelId`의 개수를 세고, 가장 많이 등장하는 상위 10개의 `channelId`를 추출합니다.\n",
    "\n",
    "2. **`df.channelId.isin(...)`**: 상위 10개의 `channelId` 목록에 속하는 `channelId`만 필터링합니다.\n",
    "\n",
    "3. **`df.loc[ ... ].channelTitle.unique()`**: 필터링된 데이터의 `channelTitle` 열에서 고유한(중복 없는) 채널 이름들을 추출합니다.\n",
    "\n",
    "4. **`list(...)`**: 고유한 채널 이름들을 리스트 형식으로 변환하여 `answer`에 저장합니다.\n",
    "\n",
    "마지막으로 `print(answer)`를 통해 상위 10개의 `channelId`에 해당하는 고유한 `channelTitle` 목록을 출력합니다."
   ]
  },
  {
   "cell_type": "markdown",
   "id": "46359829",
   "metadata": {},
   "source": [
    "### Q2. 논란으로 인기동영상이 된 케이스를 확인하고 싶다. dislikes수가 like 수보다 높은 동영상을 제작한 채널을 모두 출력하라"
   ]
  },
  {
   "cell_type": "code",
   "execution_count": 13,
   "id": "87e283c7",
   "metadata": {},
   "outputs": [
    {
     "name": "stdout",
     "output_type": "stream",
     "text": [
      "['핫도그TV', 'ASMR 애정TV', '하얀트리HayanTree', '양팡 YangPang', '철구형 (CHULTUBE)', '왜냐맨하우스', '(MUTUBE)와꾸대장봉준', '오메킴TV', '육지담', 'MapleStory_KR', 'ROAD FIGHTING CHAMPIONSHIP', '사나이 김기훈', '나혼자산다 STUDIO', 'Gen.G esports']\n"
     ]
    }
   ],
   "source": [
    "answer2 = list(df.loc[df.likes < df.dislikes].channelTitle.unique())\n",
    "print(answer2)"
   ]
  },
  {
   "cell_type": "markdown",
   "id": "68b9cac5",
   "metadata": {},
   "source": [
    "Q3. 채널명을 바꾼 케이스가 있는지 확인하고 싶다. channelId의 경우 고유값이므로 이를 통해 채널명을 한번이라도 바꾼 채널의 갯수를 구하여라"
   ]
  },
  {
   "cell_type": "code",
   "execution_count": 14,
   "id": "912307ba",
   "metadata": {},
   "outputs": [
    {
     "name": "stdout",
     "output_type": "stream",
     "text": [
      "71\n"
     ]
    }
   ],
   "source": [
    "change = df[['channelTitle', 'channelId']].drop_duplicates().channelId.value_counts()\n",
    "target = change[change > 1]\n",
    "print(len(target))"
   ]
  },
  {
   "cell_type": "markdown",
   "id": "65bacfea",
   "metadata": {},
   "source": [
    "이 코드는 `channelTitle`과 `channelId` 쌍이 고유한 데이터 중에서, 동일한 `channelId`가 여러 번 나타나는 경우를 찾아 그 개수를 출력합니다. 각 부분을 살펴보겠습니다.\n",
    "\n",
    "```python\n",
    "change = df[['channelTitle', 'channelId']].drop_duplicates().channelId.value_counts()\n",
    "```\n",
    "\n",
    "1. **`df[['channelTitle', 'channelId']].drop_duplicates()`**: `df` 데이터프레임에서 `channelTitle`과 `channelId` 두 열만 선택한 후, 중복 행을 제거합니다. 즉, 고유한 `channelTitle`-`channelId` 쌍만 남깁니다.\n",
    "\n",
    "2. **`.channelId.value_counts()`**: 고유한 쌍에서 `channelId`의 등장 횟수를 세어 `change`에 저장합니다. 여기서는 각 `channelId`가 고유한 쌍으로 몇 번 등장하는지 알려줍니다.\n",
    "\n",
    "```python\n",
    "target = change[change > 1]\n",
    "```\n",
    "\n",
    "3. **`change[change > 1]`**: `channelId`가 1회 이상 반복된 경우(즉, `channelId`가 여러 개의 `channelTitle`에 대응되는 경우)만 필터링하여 `target`에 저장합니다.\n",
    "\n",
    "```python\n",
    "print(len(target))\n",
    "```\n",
    "\n",
    "4. **`len(target)`**: 조건에 맞는 `channelId`의 개수를 출력합니다.\n",
    "\n",
    "이 코드는 `channelId`가 2회 이상 등장하는 고유 쌍의 개수를 구하는 것으로, 하나의 `channelId`가 여러 `channelTitle`과 연관된 경우가 얼마나 되는지 확인하는 작업입니다."
   ]
  },
  {
   "cell_type": "markdown",
   "id": "8e0a6b80",
   "metadata": {},
   "source": [
    "### Q4. 일요일에 인기있었던 영상들중 가장많은 영상 종류(categoryId)는 무엇인가?"
   ]
  },
  {
   "cell_type": "code",
   "execution_count": 23,
   "id": "1f8fabe7",
   "metadata": {},
   "outputs": [
    {
     "name": "stdout",
     "output_type": "stream",
     "text": [
      "24\n"
     ]
    }
   ],
   "source": [
    "df['trending_date2'] = pd.to_datetime(df['trending_date2'])\n",
    "answer = df.loc[df['trending_date2'].dt.day_name() == 'Sunday'].categoryId.value_counts().index[0]\n",
    "print(answer)"
   ]
  },
  {
   "cell_type": "markdown",
   "id": "96a93da6",
   "metadata": {},
   "source": [
    "이 코드는 `trending_date2` 열이 일요일인 경우의 `categoryId` 중에서 가장 많이 등장한 값을 찾고, 이를 출력하는 역할을 합니다. 각 부분을 설명하겠습니다.\n",
    "\n",
    "```python\n",
    "df['trending_date2'] = pd.to_datetime(df['trending_date2'])\n",
    "```\n",
    "\n",
    "1. **`pd.to_datetime(df['trending_date2'])`**: `trending_date2` 열의 값을 날짜 형식으로 변환합니다. 이를 통해 날짜 관련 작업을 수행할 수 있습니다.\n",
    "\n",
    "```python\n",
    "answer = df.loc[df['trending_date2'].dt.day_name() == 'Sunday'].categoryId.value_counts().index[0]\n",
    "```\n",
    "\n",
    "2. **`df['trending_date2'].dt.day_name() == 'Sunday'`**: `trending_date2` 열에서 날짜의 요일 이름이 `Sunday`(일요일)인 경우만 필터링합니다.\n",
    "\n",
    "3. **`.categoryId.value_counts()`**: 일요일에 해당하는 행들의 `categoryId` 열에서 각 카테고리 ID의 등장 횟수를 계산합니다.\n",
    "\n",
    "4. **`.index[0]`**: 가장 많이 등장한 `categoryId`의 ID를 가져옵니다.\n",
    "\n",
    "```python\n",
    "print(answer)\n",
    "```\n",
    "\n",
    "5. **`print(answer)`**: 최종 결과를 출력합니다.\n",
    "\n",
    "결과적으로, 이 코드는 일요일에 트렌드에 오른 동영상의 `categoryId` 중 가장 많이 등장한 ID를 출력합니다."
   ]
  },
  {
   "cell_type": "markdown",
   "id": "bbe6da3f",
   "metadata": {},
   "source": [
    "`df['trending_date2'].dt.day_name() == 'Sunday'` 이 부분은 `df` 데이터프레임의 `trending_date2` 열에서 각 날짜가 \"Sunday\"(일요일)인지 확인하여, 일요일인 경우에 `True`, 아닌 경우에 `False`를 반환하는 **불리언 시리즈**를 생성하는 부분입니다. 이를 통해 특정 요일에 해당하는 데이터만을 필터링할 수 있습니다.\n",
    "\n",
    "### 세부 설명\n",
    "\n",
    "1. **`df['trending_date2']`**: `df`라는 데이터프레임에서 `trending_date2`라는 열을 선택합니다. 이 열은 날짜 형식이어야 하며, 앞에서 `pd.to_datetime(df['trending_date2'])`로 변환한 상태입니다.\n",
    "\n",
    "2. **`.dt.day_name()`**:\n",
    "   - **`.dt` 속성**: `datetime` 형식의 열에 대해 날짜와 시간에 관련된 속성이나 메서드를 사용할 수 있게 해줍니다. 이를 통해 `trending_date2` 열의 날짜에서 요일 이름, 연도, 월 등을 쉽게 추출할 수 있습니다.\n",
    "   - **`.day_name()` 메서드**: 날짜에 해당하는 요일 이름을 문자열로 반환합니다. 예를 들어, `2023-04-23`은 \"Sunday\"를 반환하게 됩니다.\n",
    "\n",
    "3. **`== 'Sunday'`**: 요일 이름이 \"Sunday\"인지 확인합니다. `==` 연산자는 각 날짜가 일요일이면 `True`, 아니면 `False`로 평가합니다. 그 결과, `True`와 `False` 값들로 구성된 **불리언 시리즈**가 생성됩니다.\n",
    "\n",
    "### 예시\n",
    "\n",
    "만약 `trending_date2` 열에 다음과 같은 데이터가 있다고 가정해 보겠습니다.\n",
    "\n",
    "| trending_date2 |\n",
    "|----------------|\n",
    "| 2023-04-23     |\n",
    "| 2023-04-24     |\n",
    "| 2023-04-30     |\n",
    "\n",
    "위 데이터를 `.dt.day_name() == 'Sunday'`로 평가하면 다음과 같은 불리언 시리즈가 반환됩니다.\n",
    "\n",
    "| trending_date2 | 결과   |\n",
    "|----------------|--------|\n",
    "| 2023-04-23     | True   |\n",
    "| 2023-04-24     | False  |\n",
    "| 2023-04-30     | True   |\n",
    "\n",
    "이 불리언 시리즈는 이후에 `.loc[...]`와 같은 조건 필터링으로 사용될 수 있어, 데이터프레임에서 `trending_date2`가 일요일인 행들만 선택할 수 있습니다."
   ]
  },
  {
   "cell_type": "code",
   "execution_count": null,
   "id": "033d9b40",
   "metadata": {},
   "outputs": [],
   "source": []
  },
  {
   "cell_type": "code",
   "execution_count": null,
   "id": "666b22e6",
   "metadata": {},
   "outputs": [],
   "source": []
  },
  {
   "cell_type": "code",
   "execution_count": null,
   "id": "c3fc4935",
   "metadata": {},
   "outputs": [],
   "source": []
  }
 ],
 "metadata": {
  "kernelspec": {
   "display_name": "Python 3 (ipykernel)",
   "language": "python",
   "name": "python3"
  },
  "language_info": {
   "codemirror_mode": {
    "name": "ipython",
    "version": 3
   },
   "file_extension": ".py",
   "mimetype": "text/x-python",
   "name": "python",
   "nbconvert_exporter": "python",
   "pygments_lexer": "ipython3",
   "version": "3.11.1"
  }
 },
 "nbformat": 4,
 "nbformat_minor": 5
}
