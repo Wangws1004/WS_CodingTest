{
 "cells": [
  {
   "cell_type": "code",
   "execution_count": 20,
   "id": "8f69f706",
   "metadata": {},
   "outputs": [
    {
     "name": "stdout",
     "output_type": "stream",
     "text": [
      "Requirement already satisfied: python-telegram-bot in c:\\python37\\lib\\site-packages (20.3)\n",
      "Requirement already satisfied: httpx~=0.24.0 in c:\\python37\\lib\\site-packages (from python-telegram-bot) (0.24.1)\n",
      "Requirement already satisfied: certifi in c:\\python37\\lib\\site-packages (from httpx~=0.24.0->python-telegram-bot) (2023.7.22)\n",
      "Requirement already satisfied: httpcore<0.18.0,>=0.15.0 in c:\\python37\\lib\\site-packages (from httpx~=0.24.0->python-telegram-bot) (0.17.3)\n",
      "Requirement already satisfied: idna in c:\\python37\\lib\\site-packages (from httpx~=0.24.0->python-telegram-bot) (3.4)\n",
      "Requirement already satisfied: sniffio in c:\\python37\\lib\\site-packages (from httpx~=0.24.0->python-telegram-bot) (1.3.0)\n",
      "Requirement already satisfied: h11<0.15,>=0.13 in c:\\python37\\lib\\site-packages (from httpcore<0.18.0,>=0.15.0->httpx~=0.24.0->python-telegram-bot) (0.14.0)\n",
      "Requirement already satisfied: anyio<5.0,>=3.0 in c:\\python37\\lib\\site-packages (from httpcore<0.18.0,>=0.15.0->httpx~=0.24.0->python-telegram-bot) (3.7.1)\n",
      "Requirement already satisfied: exceptiongroup in c:\\python37\\lib\\site-packages (from anyio<5.0,>=3.0->httpcore<0.18.0,>=0.15.0->httpx~=0.24.0->python-telegram-bot) (1.1.2)\n",
      "Requirement already satisfied: typing-extensions in c:\\python37\\lib\\site-packages (from anyio<5.0,>=3.0->httpcore<0.18.0,>=0.15.0->httpx~=0.24.0->python-telegram-bot) (4.7.1)\n"
     ]
    },
    {
     "name": "stderr",
     "output_type": "stream",
     "text": [
      "\n",
      "[notice] A new release of pip is available: 23.2.1 -> 23.3.1\n",
      "[notice] To update, run: python.exe -m pip install --upgrade pip\n"
     ]
    }
   ],
   "source": [
    "!pip install python-telegram-bot\n",
    "\n",
    "import telegram\n",
    "import asyncio\n",
    "\n",
    "# 봇 토큰을 입력하세요.\n",
    "TOKEN = '입력하세요'\n",
    "chat_id = '입력하세요'\n",
    "\n",
    "# 봇 객체를 생성합니다.\n",
    "bot = telegram.Bot(token=TOKEN)\n",
    "\n",
    "# 비동기 함수를 정의합니다.\n",
    "async def send_telegram_message():\n",
    "    await bot.send_message(chat_id=chat_id, text=\"텔레그램 봇으로부터의 메시지입니다!\")\n",
    "\n",
    "# 비동기 함수를 실행합니다.\n",
    "await send_telegram_message()"
   ]
  }
 ],
 "metadata": {
  "kernelspec": {
   "display_name": "Python 3 (ipykernel)",
   "language": "python",
   "name": "python3"
  },
  "language_info": {
   "codemirror_mode": {
    "name": "ipython",
    "version": 3
   },
   "file_extension": ".py",
   "mimetype": "text/x-python",
   "name": "python",
   "nbconvert_exporter": "python",
   "pygments_lexer": "ipython3",
   "version": "3.7.9"
  }
 },
 "nbformat": 4,
 "nbformat_minor": 5
}
